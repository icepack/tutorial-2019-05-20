{
 "cells": [
  {
   "cell_type": "code",
   "execution_count": null,
   "metadata": {},
   "outputs": [],
   "source": [
    "%matplotlib notebook\n",
    "import firedrake\n",
    "import icepack, icepack.models, icepack.plot"
   ]
  },
  {
   "cell_type": "code",
   "execution_count": null,
   "metadata": {},
   "outputs": [],
   "source": [
    "Lx, Ly = 50e3, 12e3\n",
    "nx, ny = 16, 16\n",
    "\n",
    "mesh = firedrake.RectangleMesh(nx, ny, Lx, Ly)"
   ]
  },
  {
   "cell_type": "code",
   "execution_count": null,
   "metadata": {},
   "outputs": [],
   "source": [
    "Q = firedrake.FunctionSpace(mesh, family='CG', degree=2)\n",
    "V = firedrake.VectorFunctionSpace(mesh, family='CG', degree=2)"
   ]
  },
  {
   "cell_type": "code",
   "execution_count": null,
   "metadata": {},
   "outputs": [],
   "source": [
    "x, y = firedrake.SpatialCoordinate(mesh)\n",
    "\n",
    "b_in, b_out = 200, -400\n",
    "s_in, s_out = 850, 50"
   ]
  },
  {
   "cell_type": "code",
   "execution_count": null,
   "metadata": {},
   "outputs": [],
   "source": [
    "from icepack.constants import (ice_density as ρ_I, water_density as ρ_W,\n",
    "                               gravity as g)\n",
    "\n",
    "h_in = s_in - b_in\n",
    "δs_δx = (s_out - s_in) / Lx\n",
    "τ_D = -ρ_I * g * h_in * δs_δx\n",
    "print('{} kPa'.format(1000 * τ_D))"
   ]
  },
  {
   "cell_type": "code",
   "execution_count": null,
   "metadata": {},
   "outputs": [],
   "source": [
    "u_in = 20, u_out = 2400\n",
    "velocity_x = u_in + (u_out - u_in) * (x / Lx)**2"
   ]
  },
  {
   "cell_type": "code",
   "execution_count": null,
   "metadata": {},
   "outputs": [],
   "source": [
    "T = 255.0"
   ]
  },
  {
   "cell_type": "code",
   "execution_count": null,
   "metadata": {},
   "outputs": [],
   "source": [
    "from icepack.constants import weertman_sliding_law as m\n",
    "\n",
    "C = (0.95 - 0.05 * x/Lx) * τ_D / u_in**(1/m)\n",
    "# pressures, ramping factor"
   ]
  },
  {
   "cell_type": "code",
   "execution_count": null,
   "metadata": {},
   "outputs": [],
   "source": [
    "import icepack.models.friction\n",
    "\n",
    "def bed_friction_with_pressure(u, h, s, C):\n",
    "    p_W = ρ_W * g * firedrake.max_value(0, h - s)\n",
    "    p_I = ρ_I * g * h\n",
    "    ϕ = 1 - p_W / p_I\n",
    "    return icepack.models.friction.bed_friction(u, C * ϕ)"
   ]
  }
 ],
 "metadata": {
  "kernelspec": {
   "display_name": "Python 3 (firedrake)",
   "language": "python",
   "name": "firedrake"
  },
  "language_info": {
   "codemirror_mode": {
    "name": "ipython",
    "version": 3
   },
   "file_extension": ".py",
   "mimetype": "text/x-python",
   "name": "python",
   "nbconvert_exporter": "python",
   "pygments_lexer": "ipython3",
   "version": "3.7.3"
  }
 },
 "nbformat": 4,
 "nbformat_minor": 2
}
